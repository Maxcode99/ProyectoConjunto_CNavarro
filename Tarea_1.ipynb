{
 "cells": [
  {
   "cell_type": "markdown",
   "metadata": {},
   "source": [
    "<img style=\"float: left; margin: 30px 15px 15px 15px;\" src=\"https://pngimage.net/wp-content/uploads/2018/06/logo-iteso-png-5.png\" width=\"300\" height=\"500\" /> \n",
    "    \n",
    "    \n",
    "### <font color='navy'> Simulación de procesos financieros. \n",
    "\n",
    "**Nombres:** Carola Navarro Badía e Ignacio Maximiliano Jimenez Ramirez\n",
    "\n",
    "**Fecha:** 29 de agosto del 2023.\n",
    "\n",
    "**Expediente** : if722049 y 725502.\n",
    "**Profesor:** Oscar David Jaramillo Zuluaga.\n",
    "    \n",
    "**Link Github**: Link con el enlace del repositorio del creador del proyecto\n",
    "\n",
    "# Tarea 1: Clase 2"
   ]
  },
  {
   "cell_type": "markdown",
   "metadata": {},
   "source": [
    "## Enunciado de tarea \n",
    "> Este archivo contiene las pautas necesarias para crear el archivo conjunto en Github, usando los notebooks de Jupyter:\n",
    "\n",
    "1. El archivo debe realizarse en parejas y sólo uno de los dos debe crear en su cuenta de Github un repositorio con el nombre ProyectoConjunto_APELLIDO1_APELLIDO2. A la persona que creó el repositorio la llamaremos (ESTUDIANTE 1 ). El APELLIDO se debe de escribir (Iniciales del nombre y primer apellido), por ejemplo si yo creara el archivo lo debería de nombrar ProyectoConjunto_ODJaramillo.\n",
    "2. Posteriormente, desde la cuenta del (ESTUDIANTE 2), 'aquel que no creó el repositorio anterior', ingresar al perfil del ESTUDIANTE 1 y en el repositorio creado en el paso 1, realizar un \"fork\" de este repositorio en su perfil, y además realizar los pasos en Gitkraken para hacer dicho repositorio \"Remoto (REMOTE)\" VER DICHO PROCEDIMIENTO EN LA CLASE Clase2_GitTurorial2.\n",
    "3. Luego de realizados los pasos 1 y 2, el ESTUDIANTE 1 y ESTUDIANTE 2, desde su computador realizar un clone del repositorio creado en el numeral 1 en la carpeta que cada quién haya asignado para el curso en su computador.\n",
    "4. Luego desde Jupyter el ESTUDIANTE 1, crea un nuevo notebook en el repositorio del paso 3.\n",
    "5. En este nuevo notebook el ESTUDIANTE 1 y ESTUDIANTE 2, deben realizar una presentación describiendo sus expectativas del curso y la transcipción de la Figura 1 y Figura 2 respectivamente, haciendo uso de la sintaxis Markdown. Recuerden definir unas celdas donde cada usuario modificará el cuaderno de python para evitar futuros conflictos.\n",
    "\n",
    "RECOMENDACIÓN:ANTES DE EMPEZAR A REALIZAR MUCHAS MODIFICACIONES DEL NOTEBOOK PRIMERO REALICEN CAMBIOS PEQUEÑOS EN EL ARCHIVO EN CONJUNTO Y VERIFIQUEN SI TANTO EL ESTUDIANTE 1 COMO EL ESTUDIANTE 2 RECIBEN LAS ACTUALIZACIONES QUE REALIZAN CADA UNO EN EL PROYECTO PARA VERIFICAR QUE EL REMOTE ESTUVO BIEN CONFIGURADO.\n",
    "\n",
    "6. Cuando ya se encuentre el proyecto conjunto con la información del ESTUDIANTE 1 y ESTUDIANTE 2, el ESTUDIANTE 2 debe de realizar un pull request con las modificaciones realizadas a el ESTUDIANTE 1 para que este realice un merge a la rama master, con las moficaciones propuestas por el ESTUDIANTE 2, TAL Y CÓMO SE REALIZÓ EN CLASE. (Recuerden que los pull request se generan en Gitkraken y se administran los comentarios o cambios propuestos por su compañero desde Github ver Clase1_GitTurorial para aclaración de dudas, donde se explica cómo crear branch y pull request)\n",
    "\n",
    "7. Luego de culminado los pasos anteriores, el ESTUDIANTE 1,realizará un programa que imprima la serie de fibonacci para sus primeros 100 términos en un array de python,usando la rama “master” del repositorio creado. Por otro lado, el ESTUDIANTE 2,creando un “branch” llamado ejerPrograma, generará un programa que muestre los números primos del 0-100. Luego de que el ESTUDIANTE 2 haya terminado su programa, debe de realizar un “pull request” al ESTUDIANTE 1, ANTES de hacer un “merge” de la rama ejerPrograma en el proyecto principal (“master”). Luego de realizado estos pasos NO BORRAR LA RAMA CREADA (ejerPrograma)"
   ]
  },
  {
   "cell_type": "markdown",
   "metadata": {},
   "source": [
    "### Ejercicio 1: Expectativas del curso"
   ]
  },
  {
   "cell_type": "markdown",
   "metadata": {},
   "source": [
    "Carola "
   ]
  },
  {
   "cell_type": "markdown",
   "metadata": {},
   "source": [
    "Max\n",
    "Mis espectatvias del curso son mejorar como programador orientado a las finanzas. Algunos veces batallo con cosas relacionadas a codigo, pero hay ocasiones donde por el otro lado, suelo familiarisarme muy facil con los conceptos y actividades. Mi objetivo y espetativa de la clase es obtener la consistencia necesaria para seguir progresando de manera mas amena.  "
   ]
  },
  {
   "cell_type": "markdown",
   "metadata": {},
   "source": [
    "### Ejercicio 2: (enunciado) Transcribirlo"
   ]
  },
  {
   "cell_type": "markdown",
   "metadata": {},
   "source": [
    "| $i$ | $x$  | $f(x)$ |\n",
    "|-----|------|--------|\n",
    "| 0   | -1   | 0.3678 |\n",
    "| 1   | -0.5 | 0.7788 |\n",
    "| 2   | 0    | 1      |\n",
    "| 3   | 0.5  | 0.7788 |\n",
    "| 4   | 1    | 0.3678 |          \n",
    "\n",
    "<p style=\"text-align: center;\"> Cuadro 1: Tabla de valores de f(x) </p>\n",
    "\n",
    "\n",
    "$$\\int_{-1}^{1} e^{-x^2} \\, dx \\approx \\frac{0,5}{3} [f(-1)+f(1)+4(f(-0,5)+f(0,5))+2f(0)]$$\n",
    "                             $$\\approx \\frac{0,5}{3} [0,3678+0,3678+4(0,7788+0,7788)+2·1]\\approx1,4943$$\n",
    "\n",
    "A modo de verificación, se calculará por software, el valor del área para $n=100$, un valor mucho más elevado al que se utilizo anteriormente. Si lo calculado previamente es correcto, se esperaría que sea próximo al valor presentado a continuación para ser una buena aproximación.\n",
    "\n",
    "$$\\int_{-1}^{1} e^{-x^2} \\, dx \\approx 1,4936$$"
   ]
  },
  {
   "cell_type": "markdown",
   "metadata": {},
   "source": [
    "\n",
    "\n",
    "\n",
    "| i               | 1   | 2   | 3   | 4   | 5 | 6 | 7  |\n",
    "|-----------------|-----|-----|-----|-----|---|---|----|\n",
    "| $E_{i}(V)$       | 12  | 10  | 24  | 12  |  - |  - |   - |\n",
    "| $r_{i}(\\Omega) $ | 0.1 | 0.5 | 0.2 | 0.5 |  - |  - |  -  |\n",
    "| $R_{i}(\\Omega) $  | 25  | 40  | 16  | 20  | 9 | 4 | 20 |\n",
    "\n",
    "**<span style=\"color:#0074D9;\">Kemna y Vorst (1990)</span>** muestran que las opciones asiaticas con media geometrica continua se pueden valuar con el mismo enfoque de las opciones plain vanilla; solo se deben cambiar los parametros de volatilidad $\\sigma$ por $\\sigma_{a}$, y el costo de acarreo $b$ por $b_{a}$.\n",
    "\n",
    "De acuerdo con Kemna y Vorst, las formulas para valuar una opcion de compra y una opcion de venta son:\n",
    "\n",
    "#### $c \\approx S_{t}e^{(b_{a}-r)(T-t)}\\Phi (d_{1}) -Ke^{-r(T-t)}\\Phi(d_{2})$ ####\n",
    "\n",
    "#### $p \\approx Ke^{-r(T-t)}\\Phi(-d_{2}) -S_{t}e^{b_{a}-r(T-t)}\\Phi(-d_{1}) $ ####\n",
    "\n",
    "con d1 y d2 dados por:\n",
    "\n",
    "#### $d_{1} = \\frac{ \\ln(S_{t}/K) + (b_{a} + 1/2\\sigma^2_{a}) }{(T-t)/\\sigma \\sqrt[s]{T-t}}$ ####\n",
    "\n",
    "#### $ d_{2} = d_{1} - \\sigma_{a}\\sqrt[2]{T-t}     $ ####\n",
    "\n",
    "La funcion $\\Phi (d)$ es la funcion de distribucion acumulada de $E \\sim N(0,1) $. La volatilidad ajustada es igual a: \n",
    "\n",
    "#### $ \\sigma_{a} = \\frac {\\sigma}{\\sqrt{3}} $ ####\n",
    "\n",
    "mientras que el costo de acarreo ajustado es: \n",
    "\n",
    "#### $b_{a} = \\frac{1}{2}(v - \\frac{\\sigma^2}{6} ). $ ####\n",
    "\n",
    " \n"
   ]
  },
  {
   "cell_type": "markdown",
   "metadata": {},
   "source": [
    "Código de solución estudiante 1"
   ]
  },
  {
   "cell_type": "code",
   "execution_count": 1,
   "metadata": {},
   "outputs": [
    {
     "name": "stdout",
     "output_type": "stream",
     "text": [
      "Ingresa el número de términos de Fibonacci que deseas generar: 100\n",
      "Serie de Fibonacci:\n",
      "0\n",
      "1\n",
      "1\n",
      "2\n",
      "3\n",
      "5\n",
      "8\n",
      "13\n",
      "21\n",
      "34\n",
      "55\n",
      "89\n",
      "144\n",
      "233\n",
      "377\n",
      "610\n",
      "987\n",
      "1597\n",
      "2584\n",
      "4181\n",
      "6765\n",
      "10946\n",
      "17711\n",
      "28657\n",
      "46368\n",
      "75025\n",
      "121393\n",
      "196418\n",
      "317811\n",
      "514229\n",
      "832040\n",
      "1346269\n",
      "2178309\n",
      "3524578\n",
      "5702887\n",
      "9227465\n",
      "14930352\n",
      "24157817\n",
      "39088169\n",
      "63245986\n",
      "102334155\n",
      "165580141\n",
      "267914296\n",
      "433494437\n",
      "701408733\n",
      "1134903170\n",
      "1836311903\n",
      "2971215073\n",
      "4807526976\n",
      "7778742049\n",
      "12586269025\n",
      "20365011074\n",
      "32951280099\n",
      "53316291173\n",
      "86267571272\n",
      "139583862445\n",
      "225851433717\n",
      "365435296162\n",
      "591286729879\n",
      "956722026041\n",
      "1548008755920\n",
      "2504730781961\n",
      "4052739537881\n",
      "6557470319842\n",
      "10610209857723\n",
      "17167680177565\n",
      "27777890035288\n",
      "44945570212853\n",
      "72723460248141\n",
      "117669030460994\n",
      "190392490709135\n",
      "308061521170129\n",
      "498454011879264\n",
      "806515533049393\n",
      "1304969544928657\n",
      "2111485077978050\n",
      "3416454622906707\n",
      "5527939700884757\n",
      "8944394323791464\n",
      "14472334024676221\n",
      "23416728348467685\n",
      "37889062373143906\n",
      "61305790721611591\n",
      "99194853094755497\n",
      "160500643816367088\n",
      "259695496911122585\n",
      "420196140727489673\n",
      "679891637638612258\n",
      "1100087778366101931\n",
      "1779979416004714189\n",
      "2880067194370816120\n",
      "4660046610375530309\n",
      "7540113804746346429\n",
      "12200160415121876738\n",
      "19740274219868223167\n",
      "31940434634990099905\n",
      "51680708854858323072\n",
      "83621143489848422977\n",
      "135301852344706746049\n",
      "218922995834555169026\n"
     ]
    }
   ],
   "source": [
    "# Código de solución estudiante 1\n",
    "def fibonacci(n):\n",
    "    fib_series = [0, 1]  # Los dos primeros términos de la serie\n",
    "    for i in range(2, n):\n",
    "        next_term = fib_series[i - 1] + fib_series[i - 2]\n",
    "        fib_series.append(next_term)\n",
    "    return fib_series\n",
    "\n",
    "n_terms = int(input(\"Ingresa el número de términos de Fibonacci que deseas generar: \"))\n",
    "fibonacci_series = fibonacci(n_terms)\n",
    "\n",
    "print(\"Serie de Fibonacci:\")\n",
    "for term in fibonacci_series:\n",
    "    print(term)"
   ]
  },
  {
   "cell_type": "markdown",
   "metadata": {},
   "source": [
    "Código de solución estudiante 2"
   ]
  },
  {
   "cell_type": "code",
   "execution_count": 6,
   "metadata": {},
   "outputs": [
    {
     "name": "stdout",
     "output_type": "stream",
     "text": [
      "Números primos del 0 al 100:\n",
      "2 3 5 7 11 13 17 19 23 29 31 37 41 43 47 53 59 61 67 71 73 79 83 89 97 "
     ]
    }
   ],
   "source": [
    "# Código de solución estudiante 2\n",
    "def es_primo(numero):\n",
    "    if numero <= 1:\n",
    "        return False\n",
    "    if numero <= 3:\n",
    "        return True\n",
    "    if numero % 2 == 0 or numero % 3 == 0:\n",
    "        return False\n",
    "    i = 5\n",
    "    while i * i <= numero:\n",
    "        if numero % i == 0 or numero % (i + 2) == 0:\n",
    "            return False\n",
    "        i += 6\n",
    "    return True\n",
    "\n",
    "print(\"Números primos del 0 al 100:\")\n",
    "for num in range(101):\n",
    "    if es_primo(num):\n",
    "        print(num, end= ' ')"
   ]
  },
  {
   "cell_type": "markdown",
   "metadata": {},
   "source": [
    "### Respuesta planteada en el ejercicio usando (markdown)\n",
    " La respuesta es ........."
   ]
  }
 ],
 "metadata": {
  "kernelspec": {
   "display_name": "Python 3 (ipykernel)",
   "language": "python",
   "name": "python3"
  },
  "language_info": {
   "codemirror_mode": {
    "name": "ipython",
    "version": 3
   },
   "file_extension": ".py",
   "mimetype": "text/x-python",
   "name": "python",
   "nbconvert_exporter": "python",
   "pygments_lexer": "ipython3",
   "version": "3.10.12"
  }
 },
 "nbformat": 4,
 "nbformat_minor": 4
}
